{
 "cells": [
  {
   "cell_type": "code",
   "execution_count": 1,
   "id": "85e1653c",
   "metadata": {},
   "outputs": [],
   "source": [
    "import numpy as np\n",
    "import matplotlib.pyplot as plt\n",
    "import tensorflow as tf\n",
    "import tensorflow_datasets as tfds"
   ]
  },
  {
   "cell_type": "markdown",
   "id": "5480b270",
   "metadata": {},
   "source": [
    "# DATA"
   ]
  },
  {
   "cell_type": "code",
   "execution_count": 2,
   "id": "8cc68eaf",
   "metadata": {},
   "outputs": [],
   "source": [
    "(mnist_train, mnist_test), ds_info = tfds.load('mnist',split=['train', 'test'],as_supervised=True,with_info=True)"
   ]
  },
  {
   "cell_type": "code",
   "execution_count": 3,
   "id": "5a602a40",
   "metadata": {},
   "outputs": [
    {
     "name": "stdout",
     "output_type": "stream",
     "text": [
      "tf.Tensor(6000, shape=(), dtype=int64) tf.Tensor(60000, shape=(), dtype=int64)\n"
     ]
    }
   ],
   "source": [
    "mnist_builder = tfds.builder(\"mnist\")\n",
    "mnist_info = mnist_builder.info\n",
    "\n",
    "num_validation_samples=0.1* mnist_info.splits['train'].num_examples\n",
    "num_validation_samples=tf.cast(num_validation_samples,tf.int64)\n",
    "\n",
    "num_test_samples= mnist_info.splits['train'].num_examples\n",
    "num_test_samples=tf.cast(num_test_samples,tf.int64)\n",
    "\n",
    "print(num_validation_samples,num_test_samples)"
   ]
  },
  {
   "cell_type": "code",
   "execution_count": 4,
   "id": "86abc3db",
   "metadata": {},
   "outputs": [],
   "source": [
    "def scale(image,label):\n",
    "    image=tf.cast(image,tf.float32)\n",
    "    image/=255.\n",
    "    return image,label"
   ]
  },
  {
   "cell_type": "code",
   "execution_count": 5,
   "id": "9de0b470",
   "metadata": {},
   "outputs": [],
   "source": [
    "scaled_train_and_validation_data=mnist_train.map(scale)\n",
    "scaled_train_and_validation_data = scaled_train_and_validation_data.cache()\n",
    "\n",
    "BUFFER_SIZE=10000\n",
    "shuffled_train_and_validation_data=scaled_train_and_validation_data.shuffle(BUFFER_SIZE)\n",
    "\n",
    "validation_data=shuffled_train_and_validation_data.take(num_validation_samples)\n",
    "train_data=shuffled_train_and_validation_data.skip(num_validation_samples)\n",
    "\n",
    "BATCH_SIZE=100\n",
    "train_data=train_data.batch(BATCH_SIZE)\n",
    "validation_data=validation_data.batch(num_validation_samples)\n",
    "\n",
    "train_data = train_data.prefetch(tf.data.AUTOTUNE)\n",
    "validation_data = validation_data.prefetch(tf.data.AUTOTUNE)"
   ]
  },
  {
   "cell_type": "code",
   "execution_count": 6,
   "id": "b3eeb18f",
   "metadata": {},
   "outputs": [],
   "source": [
    "test_data=mnist_test.map(scale)\n",
    "test_data=test_data.batch(num_test_samples)"
   ]
  },
  {
   "cell_type": "code",
   "execution_count": 7,
   "id": "75a36e0d",
   "metadata": {},
   "outputs": [],
   "source": [
    "validation_inputs,validation_targets=next(iter(validation_data))"
   ]
  },
  {
   "cell_type": "markdown",
   "id": "49f85473",
   "metadata": {},
   "source": [
    "# MODEL"
   ]
  },
  {
   "cell_type": "code",
   "execution_count": 8,
   "id": "19deb2bb",
   "metadata": {},
   "outputs": [],
   "source": [
    "input_size=784\n",
    "output_size=10\n",
    "hidden_layer_size=50"
   ]
  },
  {
   "cell_type": "code",
   "execution_count": 9,
   "id": "3e6a06bb",
   "metadata": {},
   "outputs": [],
   "source": [
    "model=tf.keras.Sequential([\n",
    "                                                tf.keras.layers.Flatten(input_shape=(28,28,1)),\n",
    "                                                tf.keras.layers.Dense(hidden_layer_size,activation='relu'),   \n",
    "                                                tf.keras.layers.Dense(hidden_layer_size,activation='relu'),\n",
    "                                                tf.keras.layers.Dense(hidden_layer_size,activation='relu'),\n",
    "                                                tf.keras.layers.Dense(hidden_layer_size,activation='relu'),\n",
    "                                                tf.keras.layers.Dense(output_size,activation='softmax')\n",
    "                                              ])\n",
    "\n",
    "model.compile(optimizer='adam',loss='sparse_categorical_crossentropy',metrics=[tf.keras.metrics.SparseCategoricalAccuracy()])\n"
   ]
  },
  {
   "cell_type": "markdown",
   "id": "3a72b3c3",
   "metadata": {},
   "source": [
    "# TRAINING"
   ]
  },
  {
   "cell_type": "code",
   "execution_count": 10,
   "id": "ec6119b5",
   "metadata": {},
   "outputs": [
    {
     "name": "stdout",
     "output_type": "stream",
     "text": [
      "Epoch 1/10\n",
      "540/540 - 2s - loss: 0.4358 - sparse_categorical_accuracy: 0.8682 - val_loss: 0.2108 - val_sparse_categorical_accuracy: 0.9392 - 2s/epoch - 4ms/step\n",
      "Epoch 2/10\n",
      "540/540 - 1s - loss: 0.1699 - sparse_categorical_accuracy: 0.9490 - val_loss: 0.1401 - val_sparse_categorical_accuracy: 0.9565 - 830ms/epoch - 2ms/step\n",
      "Epoch 3/10\n",
      "540/540 - 1s - loss: 0.1294 - sparse_categorical_accuracy: 0.9605 - val_loss: 0.1379 - val_sparse_categorical_accuracy: 0.9613 - 838ms/epoch - 2ms/step\n",
      "Epoch 4/10\n",
      "540/540 - 1s - loss: 0.1065 - sparse_categorical_accuracy: 0.9676 - val_loss: 0.1063 - val_sparse_categorical_accuracy: 0.9677 - 826ms/epoch - 2ms/step\n",
      "Epoch 5/10\n",
      "540/540 - 1s - loss: 0.0897 - sparse_categorical_accuracy: 0.9724 - val_loss: 0.1084 - val_sparse_categorical_accuracy: 0.9663 - 822ms/epoch - 2ms/step\n",
      "Epoch 6/10\n",
      "540/540 - 1s - loss: 0.0801 - sparse_categorical_accuracy: 0.9750 - val_loss: 0.0877 - val_sparse_categorical_accuracy: 0.9720 - 823ms/epoch - 2ms/step\n",
      "Epoch 7/10\n",
      "540/540 - 1s - loss: 0.0705 - sparse_categorical_accuracy: 0.9782 - val_loss: 0.1172 - val_sparse_categorical_accuracy: 0.9617 - 852ms/epoch - 2ms/step\n",
      "Epoch 8/10\n",
      "540/540 - 1s - loss: 0.0618 - sparse_categorical_accuracy: 0.9809 - val_loss: 0.0596 - val_sparse_categorical_accuracy: 0.9810 - 1s/epoch - 2ms/step\n",
      "Epoch 9/10\n",
      "540/540 - 1s - loss: 0.0524 - sparse_categorical_accuracy: 0.9835 - val_loss: 0.0709 - val_sparse_categorical_accuracy: 0.9767 - 1s/epoch - 2ms/step\n",
      "Epoch 10/10\n",
      "540/540 - 1s - loss: 0.0492 - sparse_categorical_accuracy: 0.9844 - val_loss: 0.0531 - val_sparse_categorical_accuracy: 0.9845 - 863ms/epoch - 2ms/step\n"
     ]
    },
    {
     "data": {
      "text/plain": [
       "<keras.callbacks.History at 0x2329e1039a0>"
      ]
     },
     "execution_count": 10,
     "metadata": {},
     "output_type": "execute_result"
    }
   ],
   "source": [
    "early_stopping=tf.keras.callbacks.EarlyStopping(patience=2)\n",
    "\n",
    "model.fit(train_data,epochs=10,callbacks=[early_stopping],validation_data=(validation_inputs,validation_targets),verbose=2)"
   ]
  },
  {
   "cell_type": "markdown",
   "id": "206f94ba",
   "metadata": {},
   "source": [
    "# TESTING"
   ]
  },
  {
   "cell_type": "code",
   "execution_count": 11,
   "id": "63be374c",
   "metadata": {
    "scrolled": true
   },
   "outputs": [
    {
     "name": "stdout",
     "output_type": "stream",
     "text": [
      "1/1 [==============================] - 0s 265ms/step - loss: 0.0962 - sparse_categorical_accuracy: 0.9703\n"
     ]
    },
    {
     "data": {
      "text/plain": [
       "[0.09622356295585632, 0.970300018787384]"
      ]
     },
     "execution_count": 11,
     "metadata": {},
     "output_type": "execute_result"
    }
   ],
   "source": [
    "model.evaluate(test_data)"
   ]
  },
  {
   "cell_type": "code",
   "execution_count": 12,
   "id": "e25b145e",
   "metadata": {
    "scrolled": true
   },
   "outputs": [
    {
     "name": "stdout",
     "output_type": "stream",
     "text": [
      "Model: \"sequential\"\n",
      "_________________________________________________________________\n",
      " Layer (type)                Output Shape              Param #   \n",
      "=================================================================\n",
      " flatten (Flatten)           (None, 784)               0         \n",
      "                                                                 \n",
      " dense (Dense)               (None, 50)                39250     \n",
      "                                                                 \n",
      " dense_1 (Dense)             (None, 50)                2550      \n",
      "                                                                 \n",
      " dense_2 (Dense)             (None, 50)                2550      \n",
      "                                                                 \n",
      " dense_3 (Dense)             (None, 50)                2550      \n",
      "                                                                 \n",
      " dense_4 (Dense)             (None, 10)                510       \n",
      "                                                                 \n",
      "=================================================================\n",
      "Total params: 47,410\n",
      "Trainable params: 47,410\n",
      "Non-trainable params: 0\n",
      "_________________________________________________________________\n"
     ]
    }
   ],
   "source": [
    "model.summary()"
   ]
  },
  {
   "cell_type": "code",
   "execution_count": 13,
   "id": "4e7175f0",
   "metadata": {},
   "outputs": [
    {
     "name": "stdout",
     "output_type": "stream",
     "text": [
      "1/1 [==============================] - 0s 214ms/step\n"
     ]
    },
    {
     "data": {
      "text/plain": [
       "array([[0., 0., 1., ..., 0., 0., 0.],\n",
       "       [1., 0., 0., ..., 0., 0., 0.],\n",
       "       [0., 0., 0., ..., 0., 0., 0.],\n",
       "       ...,\n",
       "       [0., 0., 0., ..., 0., 1., 0.],\n",
       "       [1., 0., 0., ..., 0., 0., 0.],\n",
       "       [0., 0., 0., ..., 0., 0., 0.]], dtype=float32)"
      ]
     },
     "execution_count": 13,
     "metadata": {},
     "output_type": "execute_result"
    }
   ],
   "source": [
    "model.predict(test_data).round(2)"
   ]
  },
  {
   "cell_type": "code",
   "execution_count": 14,
   "id": "72333597",
   "metadata": {},
   "outputs": [
    {
     "data": {
      "text/plain": [
       "array([[[0., 0., 0., ..., 0., 0., 0.],\n",
       "        [0., 0., 0., ..., 0., 0., 0.],\n",
       "        [0., 0., 0., ..., 0., 0., 0.],\n",
       "        ...,\n",
       "        [0., 0., 0., ..., 0., 0., 0.],\n",
       "        [0., 0., 0., ..., 0., 0., 0.],\n",
       "        [0., 0., 0., ..., 0., 0., 0.]],\n",
       "\n",
       "       [[0., 0., 0., ..., 0., 0., 0.],\n",
       "        [0., 0., 0., ..., 0., 0., 0.],\n",
       "        [0., 0., 0., ..., 0., 0., 0.],\n",
       "        ...,\n",
       "        [0., 0., 0., ..., 0., 0., 0.],\n",
       "        [0., 0., 0., ..., 0., 0., 0.],\n",
       "        [0., 0., 0., ..., 0., 0., 0.]],\n",
       "\n",
       "       [[0., 0., 0., ..., 0., 0., 0.],\n",
       "        [0., 0., 0., ..., 0., 0., 0.],\n",
       "        [0., 0., 0., ..., 0., 0., 0.],\n",
       "        ...,\n",
       "        [0., 0., 0., ..., 0., 0., 0.],\n",
       "        [0., 0., 0., ..., 0., 0., 0.],\n",
       "        [0., 0., 0., ..., 0., 0., 0.]],\n",
       "\n",
       "       ...,\n",
       "\n",
       "       [[0., 0., 0., ..., 0., 0., 0.],\n",
       "        [0., 0., 0., ..., 0., 0., 0.],\n",
       "        [0., 0., 0., ..., 0., 0., 0.],\n",
       "        ...,\n",
       "        [0., 0., 0., ..., 0., 0., 0.],\n",
       "        [0., 0., 0., ..., 0., 0., 0.],\n",
       "        [0., 0., 0., ..., 0., 0., 0.]],\n",
       "\n",
       "       [[0., 0., 0., ..., 0., 0., 0.],\n",
       "        [0., 0., 0., ..., 0., 0., 0.],\n",
       "        [0., 0., 0., ..., 0., 0., 0.],\n",
       "        ...,\n",
       "        [0., 0., 0., ..., 0., 0., 0.],\n",
       "        [0., 0., 0., ..., 0., 0., 0.],\n",
       "        [0., 0., 0., ..., 0., 0., 0.]],\n",
       "\n",
       "       [[0., 0., 0., ..., 0., 0., 0.],\n",
       "        [0., 0., 0., ..., 0., 0., 0.],\n",
       "        [0., 0., 0., ..., 0., 0., 0.],\n",
       "        ...,\n",
       "        [0., 0., 0., ..., 0., 0., 0.],\n",
       "        [0., 0., 0., ..., 0., 0., 0.],\n",
       "        [0., 0., 0., ..., 0., 0., 0.]]])"
      ]
     },
     "execution_count": 14,
     "metadata": {},
     "output_type": "execute_result"
    }
   ],
   "source": [
    "(x_train,y_train),(x_test,y_test)=tf.keras.datasets.mnist.load_data()\n",
    "x_test=x_test/255\n",
    "x_test"
   ]
  },
  {
   "cell_type": "code",
   "execution_count": 15,
   "id": "61b6431d",
   "metadata": {
    "scrolled": false
   },
   "outputs": [
    {
     "name": "stdout",
     "output_type": "stream",
     "text": [
      "313/313 [==============================] - 0s 711us/step\n",
      "[0. 0. 0. 0. 0. 0. 0. 1. 0. 0.] => 7\n"
     ]
    },
    {
     "data": {
      "image/png": "[encoded data removed]",
      "text/plain": [
       "<Figure size 640x480 with 1 Axes>"
      ]
     },
     "metadata": {},
     "output_type": "display_data"
    },
    {
     "name": "stdout",
     "output_type": "stream",
     "text": [
      "[0.   0.02 0.98 0.   0.   0.   0.   0.   0.   0.  ] => 2\n"
     ]
    },
    {
     "data": {
      "image/png": "[encoded data removed]",
      "text/plain": [
       "<Figure size 640x480 with 1 Axes>"
      ]
     },
     "metadata": {},
     "output_type": "display_data"
    },
    {
     "name": "stdout",
     "output_type": "stream",
     "text": [
      "[0. 1. 0. 0. 0. 0. 0. 0. 0. 0.] => 1\n"
     ]
    },
    {
     "data": {
      "image/png": "[encoded data removed]",
      "text/plain": [
       "<Figure size 640x480 with 1 Axes>"
      ]
     },
     "metadata": {},
     "output_type": "display_data"
    },
    {
     "name": "stdout",
     "output_type": "stream",
     "text": [
      "[1. 0. 0. 0. 0. 0. 0. 0. 0. 0.] => 0\n"
     ]
    },
    {
     "data": {
      "image/png": "[encoded data removed]",
      "text/plain": [
       "<Figure size 640x480 with 1 Axes>"
      ]
     },
     "metadata": {},
     "output_type": "display_data"
    },
    {
     "name": "stdout",
     "output_type": "stream",
     "text": [
      "[0. 0. 0. 0. 1. 0. 0. 0. 0. 0.] => 4\n"
     ]
    },
    {
     "data": {
      "image/png": "[encoded data removed]",
      "text/plain": [
       "<Figure size 640x480 with 1 Axes>"
      ]
     },
     "metadata": {},
     "output_type": "display_data"
    }
   ],
   "source": [
    "probs=model.predict(x_test).round(2)\n",
    "preds=np.argmax(probs,axis=1)\n",
    "for i in range(5):\n",
    "    print(probs[i],\"=>\",preds[i])\n",
    "    plt.imshow(x_test[i],cmap=\"Greys\")\n",
    "    plt.show()"
   ]
  }
 ],
 "metadata": {
  "kernelspec": {
   "display_name": "Python [conda env:py3-TF2.0]",
   "language": "python",
   "name": "conda-env-py3-TF2.0-py"
  },
  "language_info": {
   "codemirror_mode": {
    "name": "ipython",
    "version": 3
   },
   "file_extension": ".py",
   "mimetype": "text/x-python",
   "name": "python",
   "nbconvert_exporter": "python",
   "pygments_lexer": "ipython3",
   "version": "3.9.15"
  }
 },
 "nbformat": 4,
 "nbformat_minor": 5
}
